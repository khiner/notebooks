{
 "cells": [
  {
   "cell_type": "markdown",
   "metadata": {},
   "source": [
    "## 4.17 Problems"
   ]
  },
  {
   "cell_type": "markdown",
   "metadata": {},
   "source": [
    "### Matrix-Vector Multiplication"
   ]
  },
  {
   "cell_type": "markdown",
   "metadata": {},
   "source": [
    "**Problem 4.17.1:** Compute the following matrix-vector products (without a computer):  \n",
    "\n",
    "1) $\\begin{bmatrix}1 &1\\\\1 &-1\\end{bmatrix} * \\begin{bmatrix}0.5\\\\0.5\\end{bmatrix}$\n",
    "\n",
    "$\\begin{bmatrix}1\\\\0\\end{bmatrix}$\n",
    "\n",
    "2) $\\begin{bmatrix}0 &0\\\\0 &1\\end{bmatrix} * \\begin{bmatrix}1.2\\\\4.44\\end{bmatrix}$\n",
    "\n",
    "$\\begin{bmatrix}0\\\\4.44\\end{bmatrix}$\n",
    "\n",
    "3) $\\begin{bmatrix}1 &2 &3\\\\2 &3 &4\\\\3 &4 &5\\end{bmatrix} * \\begin{bmatrix}1\\\\2\\\\3\\end{bmatrix}$\n",
    "\n",
    "$\\begin{bmatrix}14\\\\20\\\\26\\end{bmatrix}$"
   ]
  },
  {
   "cell_type": "markdown",
   "metadata": {},
   "source": [
    "**Problem 4.17.2:** What $2 \\times 2$ matrix $M$ satisfies $M * [x, y] = [y, x]$ for all vectors $[x, y]$?"
   ]
  },
  {
   "cell_type": "markdown",
   "metadata": {},
   "source": [
    "$M = \\begin{bmatrix}0 &1\\\\1 &0\\end{bmatrix}$"
   ]
  },
  {
   "cell_type": "markdown",
   "metadata": {},
   "source": [
    "**Problem 4.17.3:** What $3 \\times 3$ matrix $M$ satisfies $M * [x, y, z] = [z + x, y, x]$ for all vectors $[x, y, z]$?"
   ]
  },
  {
   "cell_type": "markdown",
   "metadata": {},
   "source": [
    "$M = \\begin{bmatrix}1 &0 &1\\\\0 &1 &0\\\\1 &0 &0\\end{bmatrix}$"
   ]
  },
  {
   "cell_type": "markdown",
   "metadata": {},
   "source": [
    "**Problem 4.17.4:** What $3 \\times 3$ matrix $M$ satisfies $M * [x, y, z] = [2x, 4y, 3z]$ for all vectors $[x, y, z]$?"
   ]
  },
  {
   "cell_type": "markdown",
   "metadata": {},
   "source": [
    "$M = \\begin{bmatrix}2 &0 &0\\\\0 &4 &0\\\\0 &0 &3\\end{bmatrix}$"
   ]
  },
  {
   "cell_type": "markdown",
   "metadata": {},
   "source": [
    "### Matrix-matrix multiplication: dimensions of matrices"
   ]
  },
  {
   "cell_type": "markdown",
   "metadata": {},
   "source": [
    "**Problem 4.17.5:** For each of the following problems, answer whether the given matrix-matrix product is valid or not. If it is valid, give the number of rows and the number of columns of the resulting matrix (you need not provide the matrix itself).  \n",
    "\n",
    "1) $\\begin{bmatrix}1 &1 &0\\\\1 &0 &1\\end{bmatrix} \\begin{bmatrix}2 &1 &1\\\\3 &1 &2\\end{bmatrix}$\n",
    "\n",
    "This product is invalid. $(2 \\times 3) * (2 \\times 3)$\n",
    "\n",
    "2) $\\begin{bmatrix}3 &3 &0\\end{bmatrix} \\begin{bmatrix}1 &4 &1\\\\1 &7 &2\\end{bmatrix}$\n",
    "\n",
    "This product is invalid. $(1 \\times 3) * (2 \\times 3)$\n",
    "\n",
    "3) $\\begin{bmatrix}3 &3 &0\\end{bmatrix} \\begin{bmatrix}1 &4 &1\\\\1 &7 &2\\end{bmatrix}^T$\n",
    "\n",
    "This product _is valid_. The resulting matrix has dimensions $1 \\times 2$.\n",
    "\n",
    "4) $\\begin{bmatrix}1 &4 &1\\\\1 &7 &2\\end{bmatrix} \\begin{bmatrix}3 &3 &0\\end{bmatrix}^T$\n",
    "\n",
    "This product _is valid_. The resulting matrix has dimensions $2 \\times 1$.\n",
    "\n",
    "5) $\\begin{bmatrix}1 &4 &1\\\\1 &7 &2\\end{bmatrix} \\begin{bmatrix}3 &3 &0\\end{bmatrix}$\n",
    "\n",
    "This product is invalid. $(2 \\times 3) * (1 \\times 3)$\n",
    "\n",
    "6) $\\begin{bmatrix}2 &1 &5\\end{bmatrix} \\begin{bmatrix}1 &6 &2\\end{bmatrix}^T$\n",
    "\n",
    "This product _is valid_. The resulting matrix has dimensions $1 \\times 1$.\n",
    "\n",
    "7) $\\begin{bmatrix}2 &1 &5\\end{bmatrix}^T \\begin{bmatrix}1 &6 &2\\end{bmatrix}$\n",
    "\n",
    "This product _is valid_. The resulting matrix has dimensions $3 \\times 3$."
   ]
  },
  {
   "cell_type": "code",
   "execution_count": 1,
   "metadata": {},
   "outputs": [
    {
     "data": {
      "text/plain": [
       "array([[ 2, 12,  4],\n",
       "       [ 1,  6,  2],\n",
       "       [ 5, 30, 10]])"
      ]
     },
     "execution_count": 1,
     "metadata": {},
     "output_type": "execute_result"
    }
   ],
   "source": [
    "import numpy as np\n",
    "np.array([[2, 1, 5]]).T.dot(np.array([[1, 6, 2]]))"
   ]
  },
  {
   "cell_type": "markdown",
   "metadata": {},
   "source": [
    "## Matrix-matrix multiplication practice"
   ]
  },
  {
   "cell_type": "markdown",
   "metadata": {},
   "source": [
    "**Problem 4.17.6:** Compute:\n",
    "\n",
    "1) $\\begin{bmatrix}2 &3\\\\4 &2\\end{bmatrix} \\begin{bmatrix}1 &2\\\\2 &3\\end{bmatrix}$\n",
    "\n",
    "$\\begin{bmatrix}8 &13\\\\8 &14\\end{bmatrix}$\n",
    "\n",
    "2) $\\begin{bmatrix}2 &4 &1\\\\3 &0 &-1\\end{bmatrix} \\begin{bmatrix}1 &2 &0\\\\5 &1 &1\\\\2 &3 &0\\end{bmatrix}$\n",
    "\n",
    "$\\begin{bmatrix}24 &11 &4\\\\1 &3 &0\\end{bmatrix}$\n",
    "\n",
    "3) $\\begin{bmatrix}2 &2 &1\\end{bmatrix} \\begin{bmatrix}3 &1\\\\-2 &6\\\\1 &-1\\end{bmatrix}$\n",
    "\n",
    "$\\begin{bmatrix}3 &13\\end{bmatrix}$\n",
    "\n",
    "4) $\\begin{bmatrix}1 &2 &3\\end{bmatrix} \\begin{bmatrix}1\\\\2\\\\3\\end{bmatrix}$\n",
    "\n",
    "14\n",
    "\n",
    "5) $\\begin{bmatrix}1\\\\2\\\\3\\end{bmatrix} \\begin{bmatrix}1 &2 &3\\end{bmatrix}$\n",
    "\n",
    "$\\begin{bmatrix}1 &2 &3\\\\2 &4 &6\\\\3 &6 &9\\end{bmatrix}$\n",
    "\n",
    "6) $\\begin{bmatrix}4 &1 &-3\\\\2 &2 &-2\\end{bmatrix}^T \\begin{bmatrix}-1 &1\\\\1 &0\\end{bmatrix}$\n",
    "\n",
    "$\\begin{bmatrix}-2 &4\\\\1 &1\\\\1 &-3\\end{bmatrix}$"
   ]
  },
  {
   "cell_type": "code",
   "execution_count": 2,
   "metadata": {},
   "outputs": [
    {
     "name": "stdout",
     "output_type": "stream",
     "text": [
      "1)\n",
      " [[ 8 13]\n",
      " [ 8 14]]\n",
      "\n",
      "2)\n",
      " [[24 11  4]\n",
      " [ 1  3  0]]\n",
      "\n",
      "3)\n",
      " [[ 3 13]]\n",
      "\n",
      "4)\n",
      " [[14]]\n",
      "\n",
      "5)\n",
      " [[1 2 3]\n",
      " [2 4 6]\n",
      " [3 6 9]]\n",
      "\n",
      "6)\n",
      " [[-2  4]\n",
      " [ 1  1]\n",
      " [ 1 -3]]\n"
     ]
    }
   ],
   "source": [
    "# Check all with numpy:\n",
    "\n",
    "import numpy as np\n",
    "\n",
    "print('1)\\n', np.array([[2,3],[4,2]]).dot(np.array([[1,2],[2,3]])))\n",
    "print('\\n2)\\n', np.array([[2,4,1],[3,0,-1]]).dot(np.array([[1,2,0],[5,1,1],[2,3,0]])))\n",
    "print('\\n3)\\n', np.array([[2,2,1]]).dot(np.array([[3,1],[-2,6],[1,-1]])))\n",
    "print('\\n4)\\n', np.array([[1,2,3]]).dot(np.array([[1,2,3]]).T))\n",
    "print('\\n5)\\n', np.array([[1,2,3]]).T.dot(np.array([[1,2,3]])))\n",
    "print('\\n6)\\n', np.array([[4,1,-3],[2,2,-2]]).T.dot(np.array([[-1,1],[1,0]])))"
   ]
  },
  {
   "cell_type": "markdown",
   "metadata": {},
   "source": [
    "**Problem 4.17.7:** Let\n",
    "    \n",
    "$A = \\begin{bmatrix}2 &0 &1 &5\\\\1 &-4 &6 &2\\\\3 &0 &-4 &2\\\\3 &4 &0 &-2\\end{bmatrix}$\n",
    "\n",
    "For each of the following values of the matrix $B$, compute $AB$ and $BA$, without a computer.\n",
    "\n",
    "1) $B = \\begin{bmatrix}0 &1 &0 &0\\\\0 &0 &1 &0\\\\0 &0 &0 &1\\\\1 &0 &0 &0\\end{bmatrix}$\n",
    "\n",
    "$AB = \\begin{bmatrix}5 &2 &0 &1\\\\2 &1 &-4 &6\\\\2 &3 &0 &-4\\\\-2 &3 &4 &0\\end{bmatrix}$\n",
    "$BA = \\begin{bmatrix}1 &-4 &6 &2\\\\3 &0 &-4 &2\\\\3 &4 &0 &-2\\\\2 &0 &1 &5\\end{bmatrix}$\n",
    "\n",
    "2) $B = \\begin{bmatrix}0 &0 &0 &1\\\\0 &0 &1 &0\\\\0 &1 &0 &0\\\\1 &0 &0 &0\\end{bmatrix}$\n",
    "\n",
    "$AB = \\begin{bmatrix}5 &1 &0 &2\\\\2 &6 &-4 &1\\\\2 &-4 &0 &3\\\\-2 &0 &4 &3\\end{bmatrix}$\n",
    "$BA = \\begin{bmatrix}3 &4 &0 &-2\\\\3 &0 &-4 &2\\\\1 &-4 &6 &2\\\\2 &0 &1 &5\\end{bmatrix}$\n",
    "\n",
    "3) $B = \\begin{bmatrix}0 &0 &0 &1\\\\0 &1 &0 &0\\\\1 &0 &0 &0\\\\0 &0 &1 &0\\end{bmatrix}$\n",
    "\n",
    "$AB = \\begin{bmatrix}1 &0 &5 &2\\\\6 &-4 &2 &1\\\\-4 &0 &2 &3\\\\0 &4 &-2 &3\\end{bmatrix}$\n",
    "$BA = \\begin{bmatrix}3 &4 &0 &-2\\\\1 &-4 &6 &2\\\\2 &0 &1 &5\\\\3 &0 &-4 &2\\end{bmatrix}$\n"
   ]
  },
  {
   "cell_type": "code",
   "execution_count": 3,
   "metadata": {},
   "outputs": [
    {
     "name": "stdout",
     "output_type": "stream",
     "text": [
      "\n",
      "1)\n",
      "AB=\n",
      " [[ 5  2  0  1]\n",
      " [ 2  1 -4  6]\n",
      " [ 2  3  0 -4]\n",
      " [-2  3  4  0]]\n",
      "\n",
      "BA=\n",
      " [[ 1 -4  6  2]\n",
      " [ 3  0 -4  2]\n",
      " [ 3  4  0 -2]\n",
      " [ 2  0  1  5]]\n",
      "\n",
      "2)\n",
      "AB=\n",
      " [[ 5  1  0  2]\n",
      " [ 2  6 -4  1]\n",
      " [ 2 -4  0  3]\n",
      " [-2  0  4  3]]\n",
      "\n",
      "BA=\n",
      " [[ 3  4  0 -2]\n",
      " [ 3  0 -4  2]\n",
      " [ 1 -4  6  2]\n",
      " [ 2  0  1  5]]\n",
      "\n",
      "3)\n",
      "AB=\n",
      " [[ 1  0  5  2]\n",
      " [ 6 -4  2  1]\n",
      " [-4  0  2  3]\n",
      " [ 0  4 -2  3]]\n",
      "\n",
      "BA=\n",
      " [[ 3  4  0 -2]\n",
      " [ 1 -4  6  2]\n",
      " [ 2  0  1  5]\n",
      " [ 3  0 -4  2]]\n"
     ]
    }
   ],
   "source": [
    "# Check all with numpy:\n",
    "\n",
    "import numpy as np\n",
    "\n",
    "A = np.array([[2,0,1,5],[1,-4,6,2],[3,0,-4,2],[3,4,0,-2]])\n",
    "for i, B in enumerate([np.array([[0,1,0,0],[0,0,1,0],[0,0,0,1],[1,0,0,0]]),\n",
    "          np.array([[0,0,0,1],[0,0,1,0],[0,1,0,0],[1,0,0,0]]),\n",
    "          np.array([[0,0,0,1],[0,1,0,0],[1,0,0,0],[0,0,1,0]])]):\n",
    "    print('\\n' + str(i + 1) + ')\\nAB=\\n', A.dot(B))\n",
    "    print('\\nBA=\\n', B.dot(A))"
   ]
  },
  {
   "cell_type": "markdown",
   "metadata": {},
   "source": [
    "**Problem 4.17.8:** Let $a$, $b$ be numbers and let $A = \\begin{bmatrix}1 &a\\\\0 &1\\end{bmatrix}$ and $B = \\begin{bmatrix}1 &b\\\\0 &1\\end{bmatrix}$.\n",
    "\n",
    "1. What is $AB$? Write it in terms of $a$ and $b$.\n",
    "    $AB = \\begin{bmatrix}1 &b + a\\\\0 &1\\end{bmatrix}$\n",
    "2. Recall that, for a matrix $M$ and a nonnegative integer $k$, we denote by $M^{k}$ the $k$-fold product of $M$ with itself.  Plug in $1$ for $a$ in $A$. What is $A^2$, $A^3$? What is $A^n$ where $n$ is a positive integer?\n",
    "\n",
    "Setting $a = 1$ in $A$, $A = \\begin{bmatrix}1 &1\\\\0 &1\\end{bmatrix}$.\n",
    "\n",
    "$A^2 = \\begin{bmatrix}1 &1\\\\0 &1\\end{bmatrix} \\begin{bmatrix}1 &1\\\\0 &1\\end{bmatrix} = \\begin{bmatrix}1 &2\\\\0 &1\\end{bmatrix}$\n",
    "\n",
    "$A^3 = \\begin{bmatrix}1 &2\\\\0 &1\\end{bmatrix} \\begin{bmatrix}1 &1\\\\0 &1\\end{bmatrix} = \\begin{bmatrix}1 &3\\\\0 &1\\end{bmatrix}$\n",
    "\n",
    "$A^n = \\begin{bmatrix}1 &2\\\\0 &1\\end{bmatrix} \\begin{bmatrix}1 &1\\\\0 &1\\end{bmatrix} = \\begin{bmatrix}1 &n\\\\0 &1\\end{bmatrix}$"
   ]
  },
  {
   "cell_type": "markdown",
   "metadata": {},
   "source": [
    "**Problem 4.17.9:** Let\n",
    "$A = \\begin{bmatrix}4 &2 &1 &-1\\\\1 &5 &-2 &3\\\\4 &4 &4 &0\\\\-1 &6 &2 &-5\\end{bmatrix}$\n",
    "\n",
    "For each of the following values of the matrix $B$, compute $AB$ and $BA$ without using a computer. \n",
    "\n",
    "a) $\\begin{bmatrix}0 &0 &0 &0\\\\0 &0 &1 &0\\\\0 &0 &0 &0\\\\0 &0 &0 &0\\end{bmatrix}$\n",
    "\n",
    "$AB = \\begin{bmatrix}0 &0 &2 &0\\\\0 &0 &5 &0 &0\\\\0 &0 &4 &0\\\\0 &0 &6 &0\\end{bmatrix}$\n",
    "$BA = \\begin{bmatrix}0 &0 &0 &0\\\\4 &4 &4 &0\\\\0 &0 &0 &0\\\\0 &0 &0 &0\\end{bmatrix}$\n",
    "\n",
    "b) $\\begin{bmatrix}0 &0 &0 &0\\\\0 &1 &0 &0\\\\0 &0 &0 &0\\\\0 &0 &1 &0\\end{bmatrix}$\n",
    "\n",
    "$AB = \\begin{bmatrix}0 &2 &-1 &0\\\\0 &5 &3 &0 &0\\\\0 &4 &0 &0\\\\0 &6 &5 &0\\end{bmatrix}$\n",
    "$BA = \\begin{bmatrix}0 &0 &0 &0\\\\1 &5 &2 &3\\\\0 &0 &0 &0\\\\4 &4 &4 &0\\end{bmatrix}$\n",
    "\n",
    "c) $\\begin{bmatrix}1 &0 &0 &0\\\\1 &0 &0 &0\\\\0 &0 &0 &0\\\\0 &0 &0 &0\\end{bmatrix}$\n",
    "\n",
    "$AB = \\begin{bmatrix}6 &0 &0 &0\\\\7 &0 &0 &0 &0\\\\8 &0 &0 &0\\\\5 &0 &0 &0\\end{bmatrix}$\n",
    "$BA = \\begin{bmatrix}4 &2 &1 &-1\\\\4 &2 &1 &-1\\\\0 &0 &0 &0\\\\0 &0 &0 &0\\end{bmatrix}$\n",
    "\n",
    "d) $\\begin{bmatrix}0 &1 &0 &1\\\\0 &0 &0 &0\\\\0 &0 &0 &0\\\\0 &1 &0 &0\\end{bmatrix}$\n",
    "\n",
    "$AB = \\begin{bmatrix}0 &3 &0 &4\\\\0 &4 &0 &1\\\\0 &4 &0 &4\\\\0 &-6 &0 &1\\end{bmatrix}$\n",
    "$BA = \\begin{bmatrix}0 &11 &0 &-2\\\\0 &0 &0 &0\\\\0 &0 &0 &0\\\\1 &5 &-2 &3\\end{bmatrix}$\n",
    "\n",
    "e) $\\begin{bmatrix}0 &0 &0 &2\\\\0 &0 &0 &0\\\\0 &0 &0 &0\\\\0 &-3 &0 &0\\end{bmatrix}$\n",
    "\n",
    "$AB = \\begin{bmatrix}0 &3 &0 &8\\\\0 &-9 &0 &2\\\\0 &0 &0 &8\\\\0 &15 &0 &-2\\end{bmatrix}$\n",
    "$BA = \\begin{bmatrix}-2 &12 &4 &-10\\\\0 &0 &0 &0\\\\0 &0 &0 &0\\\\-3 &-15 &6 &-9\\end{bmatrix}$\n",
    "\n",
    "f) $\\begin{bmatrix}-1 &0 &0 &0\\\\0 &2 &0 &0\\\\0 &0 &2 &0\\\\0 &0 &0 &3\\end{bmatrix}$\n",
    "\n",
    "$AB = \\begin{bmatrix}-4 &4 &2 &-3\\\\-1 &10 &-4 &9\\\\-4 &8 &8 &0\\\\1 &12 &4 &-15\\end{bmatrix}$\n",
    "$BA = \\begin{bmatrix}-4 &-2 &-1 &1\\\\2 &10 &-4 &6\\\\8 &8 &8 &0\\\\-3 &18 &6 &-15\\end{bmatrix}$\n"
   ]
  },
  {
   "cell_type": "code",
   "execution_count": 4,
   "metadata": {},
   "outputs": [
    {
     "name": "stdout",
     "output_type": "stream",
     "text": [
      "\n",
      "a)\n",
      "AB=\n",
      " [[0 0 2 0]\n",
      " [0 0 5 0]\n",
      " [0 0 4 0]\n",
      " [0 0 6 0]]\n",
      "\n",
      "BA=\n",
      " [[0 0 0 0]\n",
      " [4 4 4 0]\n",
      " [0 0 0 0]\n",
      " [0 0 0 0]]\n",
      "\n",
      "b)\n",
      "AB=\n",
      " [[ 0  2 -1  0]\n",
      " [ 0  5  3  0]\n",
      " [ 0  4  0  0]\n",
      " [ 0  6 -5  0]]\n",
      "\n",
      "BA=\n",
      " [[ 0  0  0  0]\n",
      " [ 1  5 -2  3]\n",
      " [ 0  0  0  0]\n",
      " [ 4  4  4  0]]\n",
      "\n",
      "c)\n",
      "AB=\n",
      " [[6 0 0 0]\n",
      " [6 0 0 0]\n",
      " [8 0 0 0]\n",
      " [5 0 0 0]]\n",
      "\n",
      "BA=\n",
      " [[ 4  2  1 -1]\n",
      " [ 4  2  1 -1]\n",
      " [ 0  0  0  0]\n",
      " [ 0  0  0  0]]\n",
      "\n",
      "d)\n",
      "AB=\n",
      " [[ 0  3  0  4]\n",
      " [ 0  4  0  1]\n",
      " [ 0  4  0  4]\n",
      " [ 0 -6  0 -1]]\n",
      "\n",
      "BA=\n",
      " [[ 0 11  0 -2]\n",
      " [ 0  0  0  0]\n",
      " [ 0  0  0  0]\n",
      " [ 1  5 -2  3]]\n",
      "\n",
      "e)\n",
      "AB=\n",
      " [[ 0  3  0  8]\n",
      " [ 0 -9  0  2]\n",
      " [ 0  0  0  8]\n",
      " [ 0 15  0 -2]]\n",
      "\n",
      "BA=\n",
      " [[ -2  12   4 -10]\n",
      " [  0   0   0   0]\n",
      " [  0   0   0   0]\n",
      " [ -3 -15   6  -9]]\n",
      "\n",
      "f)\n",
      "AB=\n",
      " [[ -4   4   2  -3]\n",
      " [ -1  10  -4   9]\n",
      " [ -4   8   8   0]\n",
      " [  1  12   4 -15]]\n",
      "\n",
      "BA=\n",
      " [[ -4  -2  -1   1]\n",
      " [  2  10  -4   6]\n",
      " [  8   8   8   0]\n",
      " [ -3  18   6 -15]]\n"
     ]
    }
   ],
   "source": [
    "# Check all with numpy:\n",
    "\n",
    "import numpy as np\n",
    "\n",
    "A = np.array([[4,2,1,-1],[1,5,-2,3],[4,4,4,0],[-1,6,2,-5]])\n",
    "for label, B in zip(\n",
    "        list('abcdef'),[np.array([[0,0,0,0],[0,0,1,0],[0,0,0,0],[0,0,0,0]]),\n",
    "                        np.array([[0,0,0,0],[0,1,0,0],[0,0,0,0],[0,0,1,0]]),\n",
    "                        np.array([[1,0,0,0],[1,0,0,0],[0,0,0,0],[0,0,0,0]]),\n",
    "                        np.array([[0,1,0,1],[0,0,0,0],[0,0,0,0],[0,1,0,0]]),\n",
    "                        np.array([[0,0,0,2],[0,0,0,0],[0,0,0,0],[0,-3,0,0]]),\n",
    "                        np.array([[-1,0,0,0],[0,2,0,0],[0,0,2,0],[0,0,0,3]])]):\n",
    "    print('\\n' + label + ')\\nAB=\\n', A.dot(B))\n",
    "    print('\\nBA=\\n', B.dot(A))"
   ]
  },
  {
   "cell_type": "markdown",
   "metadata": {},
   "source": [
    "### Matrix-matrix multiplication: dimensions of matrices (revisited)"
   ]
  },
  {
   "cell_type": "markdown",
   "metadata": {},
   "source": [
    "**Problem 4.17.10:** For each of the following problems, answer whether the given matrix-matrix product is valid or not. If it is valid, give the number of rows and the number of columns of the resulting matrix."
   ]
  },
  {
   "cell_type": "markdown",
   "metadata": {},
   "source": [
    "This is a dupe of problem 4.17.5."
   ]
  },
  {
   "cell_type": "markdown",
   "metadata": {},
   "source": [
    "### Column-vector and row-vector matrix multiplication"
   ]
  },
  {
   "cell_type": "markdown",
   "metadata": {},
   "source": [
    "**Problem 4.17.11:** Compute the result of the following matrix multiplications.\n",
    "\n",
    "a) $\\begin{bmatrix}2 &3 &1\\\\1 &3 &4\\end{bmatrix}\\begin{bmatrix}2\\\\2\\\\3\\end{bmatrix}$\n",
    "\n",
    "$\\begin{bmatrix}13\\\\20\\end{bmatrix}$\n",
    "\n",
    "b) $\\begin{bmatrix}2 &4 &1\\end{bmatrix}\\begin{bmatrix}1 &2 &0\\\\5 &1 &1\\\\2 &3 &0\\end{bmatrix}$\n",
    "\n",
    "$\\begin{bmatrix}24 &11 &4\\end{bmatrix}$\n",
    "\n",
    "c) $\\begin{bmatrix}2 &1\\end{bmatrix}\\begin{bmatrix}3 &1 &5 &2\\\\-2 &6 &1 &-1\\end{bmatrix}$\n",
    "\n",
    "$\\begin{bmatrix}4 &8 &11 &3\\end{bmatrix}$\n",
    "\n",
    "d) $\\begin{bmatrix}1 &2 &3 &4\\\\1 &1 &3 &1\\end{bmatrix}\\begin{bmatrix}1\\\\2\\\\3\\\\4\\end{bmatrix}$\n",
    "\n",
    "$\\begin{bmatrix}30\\\\16\\end{bmatrix}$\n",
    "\n",
    "e) $\\begin{bmatrix}4\\\\1\\\\-3\\end{bmatrix}^T\\begin{bmatrix}-1 &1 &1\\\\1 &0 &2\\\\0 &1 &-1\\end{bmatrix}$\n",
    "\n",
    "$\\begin{bmatrix}-3 &1 &9\\end{bmatrix}$"
   ]
  },
  {
   "cell_type": "code",
   "execution_count": 5,
   "metadata": {},
   "outputs": [
    {
     "name": "stdout",
     "output_type": "stream",
     "text": [
      "a)\n",
      " [[13]\n",
      " [20]]\n",
      "\n",
      "b)\n",
      " [[24 11  4]]\n",
      "\n",
      "c)\n",
      " [[ 4  8 11  3]]\n",
      "\n",
      "d)\n",
      " [[30]\n",
      " [16]]\n",
      "\n",
      "e)\n",
      " [[-3  1  9]]\n"
     ]
    }
   ],
   "source": [
    "# Check all:\n",
    "\n",
    "import numpy as np\n",
    "\n",
    "print('a)\\n', np.array([[2,3,1],[1,3,4]]).dot(np.array([[2,2,3]]).T))\n",
    "print('\\nb)\\n', np.array([[2,4,1]]).dot(np.array([[1,2,0],[5,1,1],[2,3,0]])))\n",
    "print('\\nc)\\n', np.array([[2,1]]).dot(np.array([[3,1,5,2],[-2,6,1,-1]])))\n",
    "print('\\nd)\\n', np.array([[1,2,3,4],[1,1,3,1]]).dot(np.array([[1,2,3,4]]).T))\n",
    "print('\\ne)\\n', np.array([[4,1,-3]]).dot(np.array([[-1,1,1],[1,0,2],[0,1,-1]])))"
   ]
  },
  {
   "cell_type": "markdown",
   "metadata": {},
   "source": [
    "## Matrix Class"
   ]
  },
  {
   "cell_type": "markdown",
   "metadata": {},
   "source": [
    "**Problem 2.14.10:** Download the file mat.py to your computer, and edit it. Fill in the procedure definitions and test the doctests with  \n",
    "`python3 -m doctest mat.py`."
   ]
  },
  {
   "cell_type": "code",
   "execution_count": 28,
   "metadata": {},
   "outputs": [],
   "source": [
    "!python3 -m doctest ../mat.py\n",
    "# No output means success!"
   ]
  },
  {
   "cell_type": "markdown",
   "metadata": {},
   "source": [
    "### Matrix-vector and vector-matrix multiplication definitions in Python"
   ]
  },
  {
   "cell_type": "markdown",
   "metadata": {},
   "source": [
    "**Problem 4.17.13:** Write the procedure `lin_comb_mat_vec_mult(M, v)`, which multiplies `M` times `v` using the linear combination definition. For this problem, the only operation on `v` you are allowed is getting the value of an entry using brackets: `v[k]`. The vector returned must be computed as a linear combination."
   ]
  },
  {
   "cell_type": "code",
   "execution_count": 7,
   "metadata": {},
   "outputs": [
    {
     "name": "stdout",
     "output_type": "stream",
     "text": [
      "\n",
      " 0 1 2\n",
      "------\n",
      " 1 5 6\n"
     ]
    }
   ],
   "source": [
    "import sys\n",
    "sys.path.append('../')\n",
    "\n",
    "from vec import Vec\n",
    "from mat import Mat\n",
    "from matutil import mat2rowdict, mat2coldict, rowdict2mat, coldict2mat, listlist2mat\n",
    "from vecutil import list2vec\n",
    "\n",
    "def lin_comb_mat_vec_mult(M, v):\n",
    "    return Vec(M.D[0], {row_label: sum(v[col_label] * M[row_label, col_label] for col_label in v.D) for row_label in M.D[0]})\n",
    "\n",
    "M_1 = listlist2mat([[-1, 1, 2], [1, 2, 3], [2, 2, 1]])\n",
    "v_1 = list2vec([1, 2, 0])\n",
    "\n",
    "print(lin_comb_mat_vec_mult(M_1, v_1))"
   ]
  },
  {
   "cell_type": "markdown",
   "metadata": {},
   "source": [
    "**Problem 4.17.14:** Write the procedure `lin_comb_vec_mat_mult(v, M)`, which multiplies `v` times `M` using the linear combination definition. For this problem, the only operation on `v` you are allowed is getting the value of an entry using brackets: `v[k]`. The vector returned must be computed as a linear combination."
   ]
  },
  {
   "cell_type": "code",
   "execution_count": 8,
   "metadata": {},
   "outputs": [
    {
     "name": "stdout",
     "output_type": "stream",
     "text": [
      "\n",
      "   0  1\n",
      "-------\n",
      " -40 80\n"
     ]
    }
   ],
   "source": [
    "def lin_comb_vec_mat_mult(v, M):\n",
    "    return Vec(M.D[1], {col_label: sum(v[row_label] * M[row_label, col_label] for row_label in v.D) for col_label in M.D[1]})\n",
    "\n",
    "v_2 = list2vec([4, 3, 2, 1])\n",
    "M_2 = listlist2mat([[-5, 10], [-4, 8], [-3, 6], [-2, 4]])\n",
    "print(lin_comb_vec_mat_mult(v_2, M_2))"
   ]
  },
  {
   "cell_type": "markdown",
   "metadata": {},
   "source": [
    "**Problem 4.17.15:** Write the procedure `dot_product_mat_vec_mult(M, v)`, which multiplies `M` times `v` using the dot-product definition. For this problem, the only operation on `v` you are allowed is taking the dot-product of `v` and another vector: `v: u*v` or `v*u`."
   ]
  },
  {
   "cell_type": "code",
   "execution_count": 9,
   "metadata": {},
   "outputs": [
    {
     "name": "stdout",
     "output_type": "stream",
     "text": [
      "\n",
      " 0 1 2\n",
      "------\n",
      " 1 5 6\n"
     ]
    }
   ],
   "source": [
    "def dot_product_mat_vec_mult(M, v):\n",
    "    return Vec(M.D[0], {row_label: v * row for row_label, row in mat2rowdict(M).items()})\n",
    "\n",
    "print(dot_product_mat_vec_mult(M_1, v_1))"
   ]
  },
  {
   "cell_type": "markdown",
   "metadata": {},
   "source": [
    "**Problem 4.17.15:** Write the procedure `dot_product_vec_mat_mult(M, v)`, which multiplies `v` times `M` using the dot-product definition. For this problem, the only operation on `v` you are allowed is taking the dot-product of `v` and another vector: `v: u*v` or `v*u`."
   ]
  },
  {
   "cell_type": "code",
   "execution_count": 10,
   "metadata": {},
   "outputs": [
    {
     "name": "stdout",
     "output_type": "stream",
     "text": [
      "\n",
      "   0  1\n",
      "-------\n",
      " -40 80\n"
     ]
    }
   ],
   "source": [
    "def dot_product_vec_mat_mult(v, M):\n",
    "    return Vec(M.D[1], {col_label: v * col for col_label, col in mat2coldict(M).items()})\n",
    "\n",
    "print(lin_comb_vec_mat_mult(v_2, M_2))"
   ]
  },
  {
   "cell_type": "markdown",
   "metadata": {},
   "source": [
    "### Matrix-matrix multiplication definitions in Python"
   ]
  },
  {
   "cell_type": "markdown",
   "metadata": {},
   "source": [
    "**Problem 4.17.17:** Write `Mv_mat_mat_mult(A, B)` to compute the matrix-matrix product $A * B$, using the matrix-vector multiplication definition of matrix-matrix multiplication. For this procedure, the only operation you are allowed to do on $A$ is matrix-vector multiplication, using the `*` operator `A*v`."
   ]
  },
  {
   "cell_type": "code",
   "execution_count": 11,
   "metadata": {},
   "outputs": [
    {
     "name": "stdout",
     "output_type": "stream",
     "text": [
      "\n",
      "        0  1  2   3\n",
      "     --------------\n",
      " 0  |  -4  4  2  -3\n",
      " 1  |  -1 10 -4   9\n",
      " 2  |  -4  8  8   0\n",
      " 3  |   1 12  4 -15\n",
      "\n",
      "\n",
      "        0  1  2   3\n",
      "     --------------\n",
      " 0  |  -4 -2 -1   1\n",
      " 1  |   2 10 -4   6\n",
      " 2  |   8  8  8   0\n",
      " 3  |  -3 18  6 -15\n",
      "\n"
     ]
    }
   ],
   "source": [
    "def Mv_mat_mat_mult(A, B):\n",
    "    return Mat((A.D[0], B.D[1]), {(row_label, col_label): val for col_label, b_col in mat2coldict(B).items() for row_label, val in (A * b_col).f.items()})\n",
    "\n",
    "A = listlist2mat([[4,2,1,-1],[1,5,-2,3],[4,4,4,0],[-1,6,2,-5]])\n",
    "B = listlist2mat([[-1,0,0,0],[0,2,0,0],[0,0,2,0],[0,0,0,3]])\n",
    "\n",
    "print(Mv_mat_mat_mult(A, B))\n",
    "\n",
    "# expected (from previous problem)\n",
    "# [[ -4   4   2  -3]\n",
    "#  [ -1  10  -4   9]\n",
    "#  [ -4   8   8   0]\n",
    "#  [  1  12   4 -15]]\n",
    "\n",
    "print(Mv_mat_mat_mult(B, A))\n",
    "\n",
    "# expected (from previous problem)\n",
    "# [[ -4  -2  -1   1]\n",
    "#  [  2  10  -4   6]\n",
    "#  [  8   8   8   0]\n",
    "#  [ -3  18   6 -15]]"
   ]
  },
  {
   "cell_type": "markdown",
   "metadata": {},
   "source": [
    "**Problem 4.17.18:** Write `vM_mat_mat_mult(A, B)` to compute the matrix-matrix product $A * B$, using the vector-matrix multiplication definition of matrix-matrix multiplication. For this procedure, the only operation you are allowed to do on $B$ is vector-matrix multiplication, using the `*` operator `v*B`."
   ]
  },
  {
   "cell_type": "code",
   "execution_count": 12,
   "metadata": {},
   "outputs": [
    {
     "name": "stdout",
     "output_type": "stream",
     "text": [
      "\n",
      "        0  1  2   3\n",
      "     --------------\n",
      " 0  |  -4  4  2  -3\n",
      " 1  |  -1 10 -4   9\n",
      " 2  |  -4  8  8   0\n",
      " 3  |   1 12  4 -15\n",
      "\n",
      "\n",
      "        0  1  2   3\n",
      "     --------------\n",
      " 0  |  -4 -2 -1   1\n",
      " 1  |   2 10 -4   6\n",
      " 2  |   8  8  8   0\n",
      " 3  |  -3 18  6 -15\n",
      "\n"
     ]
    }
   ],
   "source": [
    "def vM_mat_mat_mult(A, B):\n",
    "    return Mat((A.D[0], B.D[1]), {(row_label, col_label): val for row_label, b_row in mat2rowdict(A).items() for col_label, val in (b_row * B).f.items()})\n",
    "\n",
    "print(vM_mat_mat_mult(A, B))\n",
    "print(vM_mat_mat_mult(B, A))"
   ]
  },
  {
   "cell_type": "markdown",
   "metadata": {},
   "source": [
    "### Dot products via matrix-matrix multiplication"
   ]
  },
  {
   "cell_type": "markdown",
   "metadata": {},
   "source": [
    "**Problem 4.17.19:** Let $A$ be a matrix whose column labels are countries and whose row labels are votes taken in the United Nations (UN), where $A[i, j]$ is $+1$ or $-1$ or $0$ depending on whether country $j$ votes in favor of or against or neighter in vote $i$.  \n",
    "As in the politics lab, we can compare countries by comparing their voting records. Let $M = A^TA$. Then $M$'s row and column labels are countries, and $M[i,j]$ is the dot-product of country $i$'s voting record with country $j$'s voting record.  \n",
    "The provided file `UN_voting_data.txt` has one line per country. The line consists of the country name, followed by $+1$'s, $-1$'s, and zeroes, separated by spaces. Read in the data and form the matrix $A$. Then form the matrix $M = A^TA$.  \n",
    "Use $M$ to answer the following questions.\n",
    "\n",
    "1. Which pair of countries are most opposed? (They have the most negative dot-product.)\n",
    "1. What are the ten most opposed pairs of countries?\n",
    "1. Which pair of distinct countries are in the greatest agreement?"
   ]
  },
  {
   "cell_type": "code",
   "execution_count": 13,
   "metadata": {},
   "outputs": [],
   "source": [
    "f = open('UN_voting_data.txt')\n",
    "l = list(f)"
   ]
  },
  {
   "cell_type": "code",
   "execution_count": 14,
   "metadata": {},
   "outputs": [
    {
     "name": "stdout",
     "output_type": "stream",
     "text": [
      "((0, 'Ireland'), 0)\n"
     ]
    }
   ],
   "source": [
    "def create_voting_matrix(strlist):\n",
    "    return coldict2mat({s.split()[0]: list2vec([int(v) for v in s.split()[1:]]) for s in strlist})\n",
    "\n",
    "A = create_voting_matrix(l)\n",
    "print(list(A.f.items())[0])"
   ]
  },
  {
   "cell_type": "code",
   "execution_count": 15,
   "metadata": {},
   "outputs": [],
   "source": [
    "A_T = A.transpose()"
   ]
  },
  {
   "cell_type": "code",
   "execution_count": 16,
   "metadata": {},
   "outputs": [],
   "source": [
    "M = A_T * A"
   ]
  },
  {
   "cell_type": "code",
   "execution_count": 17,
   "metadata": {},
   "outputs": [
    {
     "data": {
      "text/plain": [
       "206.0"
      ]
     },
     "execution_count": 17,
     "metadata": {},
     "output_type": "execute_result"
    }
   ],
   "source": [
    "# some sanity checking...\n",
    "import math\n",
    "math.sqrt(len(M.f))"
   ]
  },
  {
   "cell_type": "code",
   "execution_count": 18,
   "metadata": {},
   "outputs": [
    {
     "data": {
      "text/plain": [
       "206"
      ]
     },
     "execution_count": 18,
     "metadata": {},
     "output_type": "execute_result"
    }
   ],
   "source": [
    "len(l)"
   ]
  },
  {
   "cell_type": "code",
   "execution_count": 19,
   "metadata": {},
   "outputs": [
    {
     "data": {
      "text/plain": [
       "10916"
      ]
     },
     "execution_count": 19,
     "metadata": {},
     "output_type": "execute_result"
    }
   ],
   "source": [
    "len(l[0]) # this is the max magnitude of agreement or disagreement possible (if there was no obstaining from either country)"
   ]
  },
  {
   "cell_type": "code",
   "execution_count": 20,
   "metadata": {},
   "outputs": [
    {
     "data": {
      "text/plain": [
       "('Belarus', 'United_States_of_America')"
      ]
     },
     "execution_count": 20,
     "metadata": {},
     "output_type": "execute_result"
    }
   ],
   "source": [
    "# Question 1: most opposed\n",
    "most_opposed_countries = min(M.f, key=M.f.get)\n",
    "most_opposed_countries"
   ]
  },
  {
   "cell_type": "code",
   "execution_count": 21,
   "metadata": {},
   "outputs": [
    {
     "data": {
      "text/plain": [
       "\"Most opposed countries: ('Belarus', 'United_States_of_America') with a cumulative disagreement of: -1927\""
      ]
     },
     "execution_count": 21,
     "metadata": {},
     "output_type": "execute_result"
    }
   ],
   "source": [
    "'Most opposed countries: ' + str(most_opposed_countries) + ' with a cumulative disagreement of: ' + str(M[most_opposed_countries])"
   ]
  },
  {
   "cell_type": "code",
   "execution_count": 22,
   "metadata": {},
   "outputs": [
    {
     "data": {
      "text/plain": [
       "('Philippines', 'Philippines')"
      ]
     },
     "execution_count": 22,
     "metadata": {},
     "output_type": "execute_result"
    }
   ],
   "source": [
    "# We would expect the max agreement to be between the country with the most non-obstaining (non-zero) votes,\n",
    "# with itself (along the diagonal):\n",
    "country_with_most_non_obstaining_votes = max(M.f, key=M.f.get)\n",
    "country_with_most_non_obstaining_votes"
   ]
  },
  {
   "cell_type": "code",
   "execution_count": 23,
   "metadata": {},
   "outputs": [
    {
     "data": {
      "text/plain": [
       "4690"
      ]
     },
     "execution_count": 23,
     "metadata": {},
     "output_type": "execute_result"
    }
   ],
   "source": [
    "# this is the actual maximum agreement in this dataset...\n",
    "M[country_with_most_non_obstaining_votes]"
   ]
  },
  {
   "cell_type": "code",
   "execution_count": 24,
   "metadata": {},
   "outputs": [
    {
     "data": {
      "text/plain": [
       "0.41087420042643924"
      ]
     },
     "execution_count": 24,
     "metadata": {},
     "output_type": "execute_result"
    }
   ],
   "source": [
    "# so another way of considering the most _disagreeing_ countries is normalized to the true maximum _agreement_:\n",
    "abs(M[most_opposed_countries] / M[country_with_most_non_obstaining_votes])"
   ]
  },
  {
   "cell_type": "code",
   "execution_count": 25,
   "metadata": {},
   "outputs": [
    {
     "data": {
      "text/plain": [
       "[('Belarus', 'United_States_of_America'),\n",
       " ('Syria', 'United_States_of_America'),\n",
       " ('Cuba', 'United_States_of_America'),\n",
       " ('Algeria', 'United_States_of_America'),\n",
       " ('Viet_Nam', 'United_States_of_America'),\n",
       " ('Libya', 'United_States_of_America'),\n",
       " ('Guinea', 'United_States_of_America'),\n",
       " ('Mongolia', 'United_States_of_America'),\n",
       " ('Mali', 'United_States_of_America'),\n",
       " ('Sudan', 'United_States_of_America')]"
      ]
     },
     "execution_count": 25,
     "metadata": {},
     "output_type": "execute_result"
    }
   ],
   "source": [
    "# Question 2: ten most opposed countries:\n",
    "M_copy = M.copy()\n",
    "\n",
    "ten_most_opposed_countries = []\n",
    "for i in range(10):\n",
    "    most_opposed = min(M_copy.f, key=M_copy.f.get)\n",
    "    ten_most_opposed_countries.append(most_opposed)\n",
    "    del(M_copy.f[most_opposed])\n",
    "    del(M_copy.f[(most_opposed[1], most_opposed[0])]) # delete the other of the pair (across the diagonal)\n",
    "\n",
    "ten_most_opposed_countries"
   ]
  },
  {
   "cell_type": "code",
   "execution_count": 26,
   "metadata": {},
   "outputs": [
    {
     "data": {
      "text/plain": [
       "\"Most aligned countries: ('Philippines', 'Thailand') with cumulative agreement of: 4229\""
      ]
     },
     "execution_count": 26,
     "metadata": {},
     "output_type": "execute_result"
    }
   ],
   "source": [
    "# Question 3: Which pair of distinct countries are in the greatest agreement?\n",
    "\n",
    "# delete diagonal entries first\n",
    "M_copy = M.copy()\n",
    "for country in M.D[0]:\n",
    "    del(M_copy.f[(country, country)])\n",
    "\n",
    "most_aligned_countries = max(M_copy.f, key=M_copy.f.get)\n",
    "'Most aligned countries: ' + str(most_aligned_countries) + ' with cumulative agreement of: ' + str(M[most_aligned_countries])"
   ]
  },
  {
   "cell_type": "markdown",
   "metadata": {},
   "source": [
    "### Comprehension practice"
   ]
  },
  {
   "cell_type": "markdown",
   "metadata": {},
   "source": [
    "**Problem 4.17.20:** Write the one-line procedure `dictlist_helper(dlist, k)` with the following spec:  \n",
    "* _input:_ a list `dlist` of dictionaries which all have the same keys, and a key `k`\n",
    "* _output:_ the list whose $i^{th}$ element is the value corresponding to the key `k` in the $i^{th}$ dictionary of `dlist`\n",
    "* _example:_ With inputs `dlist=[{'a':'apple', 'b':'bear'}, {'a':1, 'b':2}]` and `k='a'`, the output is `['apple', 1]`\n",
    "\n",
    "The procedure should use a comprehension."
   ]
  },
  {
   "cell_type": "code",
   "execution_count": 27,
   "metadata": {},
   "outputs": [
    {
     "data": {
      "text/plain": [
       "['apple', 1]"
      ]
     },
     "execution_count": 27,
     "metadata": {},
     "output_type": "execute_result"
    }
   ],
   "source": [
    "def dictlist_helper(dlist, k):\n",
    "    return [d[k] for d in dlist]\n",
    "\n",
    "dictlist_helper([{'a':'apple', 'b':'bear'}, {'a':1, 'b':2}], 'a')"
   ]
  },
  {
   "cell_type": "markdown",
   "metadata": {},
   "source": [
    "### The inverse of a $2 \\times 2$ matrix"
   ]
  },
  {
   "cell_type": "markdown",
   "metadata": {},
   "source": [
    "**Problem 4.17.21:**    \n",
    "\n",
    "1. Use a formula given in the text to solve the linear system $\\begin{bmatrix}3 &4\\\\2 &1\\end{bmatrix}\\begin{bmatrix}x_1\\\\x_2\\end{bmatrix} = \\begin{bmatrix}1\\\\0\\end{bmatrix}$.  \n",
    "  \n",
    "  $3x_1 + 4x_2 = 1\\\\2x_1 + 1x_2 = 0$\n",
    "  \n",
    "  $\\implies$\n",
    "  \n",
    "  $x_2 = -2x_1 \\implies 3x_1 + 4(-2x_1) = 1 \\implies x_1 = -\\frac{1}{5}$, and  \n",
    "  $x_2 = \\frac{2}{5}$\n",
    "  \n",
    "  $\\begin{bmatrix}x_1\\\\x_2\\end{bmatrix} = \\begin{bmatrix}-\\frac{1}{5}\\\\\\frac{2}{5}\\end{bmatrix}$\n",
    "\n",
    "2. Use the formula to solve the linear system $\\begin{bmatrix}3 &4\\\\2 &1\\end{bmatrix}\\begin{bmatrix}y_1\\\\y_2\\end{bmatrix} = \\begin{bmatrix}0\\\\1\\end{bmatrix}$.\n",
    "\n",
    "  $3y_1 + 4y_2 = 0\\\\2y_1 + 1y_2 = 1$\n",
    "\n",
    "  $\\implies$\n",
    "\n",
    "  $y_2 = -\\frac{3}{4}y_1 \\implies 2y_1 - \\frac{3}{4}y_1 = 1 \\implies y_1 = \\frac{4}{5}$, and  \n",
    "  $y_2 = -\\frac{3}{5}$\n",
    "\n",
    "  $\\begin{bmatrix}y_1\\\\y_2\\end{bmatrix} = \\begin{bmatrix}\\frac{4}{5}\\\\-\\frac{3}{5}\\end{bmatrix}$\n",
    "\n",
    "3. Use your solutions to find a $2 \\times 2$ matrix $M$ such that $\\begin{bmatrix} 3 &4\\\\2 &1\\end{bmatrix}$ times $M$ is an identity matrix.\n",
    "\n",
    "  $M = \\begin{bmatrix}x_1 &y_1\\\\x_2 &y_2\\end{bmatrix} = \\begin{bmatrix}-\\frac{1}{5} &\\frac{4}{5}\\\\\\frac{2}{5} &-\\frac{3}{5}\\end{bmatrix}$\n",
    "\n",
    "4. Calculate $M$ times $\\begin{bmatrix}3 &4\\\\2 &1\\end{bmatrix}$ and calculate $\\begin{bmatrix}3 &4\\\\2 &1\\end{bmatrix}$ times $M$, and use _Corollary 4.13.19_ to decide whether $M$ is the inverse of $\\begin{bmatrix}3 &4\\\\2 &1\\end{bmatrix}$. Explain your answer.\n",
    "\n",
    "  $\\begin{bmatrix}-\\frac{1}{5} &\\frac{4}{5}\\\\\\frac{2}{5} &-\\frac{3}{5}\\end{bmatrix} \\begin{bmatrix}3 &4\\\\2 &1\\end{bmatrix} = \\begin{bmatrix}1 &0\\\\0 &1\\end{bmatrix}$\n",
    "\n",
    "  $\\begin{bmatrix}3 &4\\\\2 &1\\end{bmatrix} \\begin{bmatrix}-\\frac{1}{5} &\\frac{4}{5}\\\\\\frac{2}{5} &-\\frac{3}{5}\\end{bmatrix} = \\begin{bmatrix}1 &0\\\\0 &1\\end{bmatrix}$\n",
    "\n",
    "  _Corollary 4.13.19_ states that matrices $A$ and $B$ are inverses of each other if and only if both $AB$ and $BA$ are identity matrices.  Thus, $M$ is the inverse of $\\begin{bmatrix}3 &4\\\\2 &1\\end{bmatrix}$."
   ]
  },
  {
   "cell_type": "markdown",
   "metadata": {},
   "source": [
    "### Matrix inverse criterion"
   ]
  },
  {
   "cell_type": "markdown",
   "metadata": {},
   "source": [
    "**Problem 4.17.22:** For each of the parts below, use _Corollary 4.13.19_ to demonstrate that the pair of matrices given are or are not inverses of each other.\n",
    "\n",
    "1. $\\begin{bmatrix}5 &1\\\\9 &2\\end{bmatrix}$,$\\begin{bmatrix}2 &-1\\\\-9 &5\\end{bmatrix}$ over $\\mathbb{R}$\n",
    "\n",
    "  $\\begin{bmatrix}5 &1\\\\9 &2\\end{bmatrix} \\begin{bmatrix}2 &-1\\\\-9 &5\\end{bmatrix} = \\begin{bmatrix}1 &0\\\\0 &1\\end{bmatrix}$\n",
    "  \n",
    "  $\\begin{bmatrix}2 &-1\\\\-9 &5\\end{bmatrix} \\begin{bmatrix}5 &1\\\\9 &2\\end{bmatrix} = \\begin{bmatrix}1 &0\\\\0 &1\\end{bmatrix}$\n",
    "\n",
    "  These matrices _are_ inverses of each other.\n",
    "\n",
    "2. $\\begin{bmatrix}2 &0\\\\0 &1\\end{bmatrix}$,$\\begin{bmatrix}\\frac{1}{2} &0\\\\0 &1\\end{bmatrix}$ over $\\mathbb{R}$\n",
    "\n",
    "  $\\begin{bmatrix}2 &0\\\\0 &1\\end{bmatrix} \\begin{bmatrix}\\frac{1}{2} &0\\\\0 &1\\end{bmatrix} = \\begin{bmatrix}1 &0\\\\0 &1\\end{bmatrix}$\n",
    "  \n",
    "  $\\begin{bmatrix}\\frac{1}{2} &0\\\\0 &1\\end{bmatrix} \\begin{bmatrix}2 &0\\\\0 &1\\end{bmatrix} = \\begin{bmatrix}1 &0\\\\0 &1\\end{bmatrix}$\n",
    "\n",
    "  These matrices _are_ inverses of each other.\n",
    "\n",
    "3. $\\begin{bmatrix}3 &1\\\\0 &2\\end{bmatrix}$,$\\begin{bmatrix}1 &\\frac{1}{6}\\\\-2 &\\frac{1}{2}\\end{bmatrix}$ over $\\mathbb{R}$\n",
    "\n",
    "  $\\begin{bmatrix}3 &1\\\\0 &2\\end{bmatrix} \\begin{bmatrix}1 &\\frac{1}{6}\\\\-2 &\\frac{1}{2}\\end{bmatrix} = \\begin{bmatrix}1 &1\\\\-4 &1\\end{bmatrix}$\n",
    "  \n",
    "  $\\begin{bmatrix}1 &\\frac{1}{6}\\\\-2 &\\frac{1}{2}\\end{bmatrix} \\begin{bmatrix}3 &1\\\\0 &2\\end{bmatrix} = \\begin{bmatrix}3 &\\frac{4}{3}\\\\-6 &-1\\end{bmatrix}$\n",
    "  \n",
    "  These matrices _are not_ inverses of each other.\n",
    "  \n",
    "4. $\\begin{bmatrix}1 &0 &1\\\\0 &1 &0\\end{bmatrix}$,$\\begin{bmatrix}0 &1\\\\0 &1\\\\1 &1\\end{bmatrix}$ over $GF(2)$\n",
    "\n",
    "  $\\begin{bmatrix}1 &0 &1\\\\0 &1 &0\\end{bmatrix} \\begin{bmatrix}0 &1\\\\0 &1\\\\1 &1\\end{bmatrix} = \\begin{bmatrix}1 &0\\\\0 &1\\end{bmatrix}$\n",
    "  \n",
    "  $\\begin{bmatrix}0 &1\\\\0 &1\\\\1 &1\\end{bmatrix} \\begin{bmatrix}1 &0 &1\\\\0 &1 &0\\end{bmatrix} = \\begin{bmatrix}0 &1 &0\\\\0 &1 &0\\\\1 &1 &1\\end{bmatrix}$\n",
    "\n",
    "  These matrices _are not_ inverses of each other.\n"
   ]
  },
  {
   "cell_type": "markdown",
   "metadata": {},
   "source": [
    "**Problem 4.17.23:**  Specify a function $f$ (by domain, co-domain, and rule) that is invertible but such that there is no matrix $A$ such that $f(\\boldsymbol{x}) = A\\boldsymbol{x}$."
   ]
  },
  {
   "cell_type": "markdown",
   "metadata": {},
   "source": [
    "Define $f: \\mathbb{R}^N \\to \\mathbb{R}^M$, where  $f(\\boldsymbol{x}) = \\{x_i^3, x_i \\in \\boldsymbol{x}\\}$. Then $g(\\boldsymbol{x}) = \\{x_i^\\frac{1}{3}, x_i \\in \\boldsymbol{x}\\}$ is the inverse of $f$, but there is no matrix $A$ such that $f(\\boldsymbol{x}) = A\\boldsymbol{x}$."
   ]
  },
  {
   "cell_type": "code",
   "execution_count": null,
   "metadata": {},
   "outputs": [],
   "source": []
  }
 ],
 "metadata": {
  "kernelspec": {
   "display_name": "Python 3",
   "language": "python",
   "name": "python3"
  },
  "language_info": {
   "codemirror_mode": {
    "name": "ipython",
    "version": 3
   },
   "file_extension": ".py",
   "mimetype": "text/x-python",
   "name": "python",
   "nbconvert_exporter": "python",
   "pygments_lexer": "ipython3",
   "version": "3.9.1"
  }
 },
 "nbformat": 4,
 "nbformat_minor": 2
}
