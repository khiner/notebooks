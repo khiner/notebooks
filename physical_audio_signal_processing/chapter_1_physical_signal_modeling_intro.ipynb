{
 "cells": [
  {
   "cell_type": "markdown",
   "metadata": {},
   "source": [
    "## [Chapter 1](https://ccrma.stanford.edu/~jos/pasp/Introduction_Physical_Signal_Models.html)\n",
    "# Physical Signal Modeling Intro\n",
    "\n",
    "This chapter gives a broad overview of the topics covered throughout the book.\n",
    "\n",
    "Here are my answers to the exercises presented at the end of the chapter in the paper book:"
   ]
  },
  {
   "cell_type": "markdown",
   "metadata": {},
   "source": [
    "## Elementary Physical Modeling Problems"
   ]
  },
  {
   "cell_type": "markdown",
   "metadata": {},
   "source": [
    "**1. Derive the equation**\n",
    "\n",
    "$H(z) = D + C(zI - A)^{-1}B$"
   ]
  },
  {
   "cell_type": "markdown",
   "metadata": {},
   "source": [
    "(Following [this derivation](https://ccrma.stanford.edu/~jos/filters/Transfer_Function_State_Space.html))"
   ]
  },
  {
   "cell_type": "markdown",
   "metadata": {},
   "source": [
    "Using the definition of $H(z)$ as the $z$ transform of the impulse response:\n",
    "\n",
    "$\\begin{array}{ll}\n",
    "H(z) &\\triangleq \\sum_{n=0}^{\\infty}h(n)z^{-n}\\\\\n",
    "&= D + \\sum_{n=1}^{\\infty}\\left(CA^{n-1}B\\right)z^{-n} &\\text{ since }h(n) = \\begin{cases}\\begin{array}{ll}D, &n=0\\\\CA^{n-1}B, &n > 0\\end{array}\\end{cases}\\\\\n",
    "&= D + z^{-1}C\\left[\\sum_{n=0}^{\\infty}\\left(z^{-1}A\\right)^{n}\\right]B\\\\\n",
    "&= D + C\\left(zI - A\\right)^{-1}B &\\text{ closed-form sum of a matrix geometric series}\n",
    "\\end{array}$"
   ]
  },
  {
   "cell_type": "markdown",
   "metadata": {},
   "source": [
    "**2. In Newton's famous equation $f(t) = ma(t)$, suppose $f(t)$ is regarded as an \"input signal\" and the position $x(t)$ of the mass $m$ is regarded as an \"output signal\". Find the $s$-plane _transfer function_ $H(s) \\triangleq X(s)/F(s)$. State any assumptions that are necessary.**"
   ]
  },
  {
   "cell_type": "markdown",
   "metadata": {},
   "source": [
    "First, let's find the Laplace transform $F(s)$ of $f(t)$ in terms of $X(s)$ (the Laplace transform of $x(s)$ (getting help from [this section](https://ccrma.stanford.edu/~jos/filters/Moving_Mass.html) of _Introduction to Digital Filters_):"
   ]
  },
  {
   "cell_type": "markdown",
   "metadata": {},
   "source": [
    "$\\begin{array}{ll}\n",
    "f(t) &= ma(t)\\\\\n",
    "F(s) &= \\mathcal{L}_s\\{m\\ddot{x}\\} &\\text{ Laplace transform of both sides}\\\\\n",
    "&= m\\mathcal{L}_s\\{\\ddot{x}\\} &\\text{ by linearity of Laplace transform}\\\\\n",
    "&= m\\left[s\\mathcal{L}_s\\{\\dot{x}\\} - \\dot{x}(0)\\right] &\\text{ by differentiation theorem of Laplace transform}\\\\\n",
    "&= m\\left\\{s\\left[sX(s) - x(0)\\right] - \\dot{x}(0)\\right\\} &\\text{ another round of differentiation theorem}\\\\\n",
    "&= m\\left[s^2X(s) - sx(0) - \\dot{x}(0)\\right]\\\\\n",
    "&= ms^2X(s) &\\text{ assuming initial position }x(0)\\text{ and initial velocity }\\dot{x}(0)\\text{ are } 0\\\\\n",
    "\\dfrac{F(s)}{X(s)} &= ms^2 &\\text{ solving for inverse } s \\text{-plane transfer function}\\\\\n",
    "\\dfrac{X(s)}{F(s)} &\\triangleq H(s) = \\frac{1}{m}s^{-2}\n",
    "\\end{array}$\n",
    "\n",
    "Note the only assumptions made in the above proof are in the third-to-last step, assuming initial position $x(0)$ and initial velocity $\\dot{x}(0)$ are both $0$."
   ]
  },
  {
   "cell_type": "markdown",
   "metadata": {},
   "source": [
    "**3. Referring to [Fig. 1.9 on page 25](https://ccrma.stanford.edu/~jos/pasp/Equivalent_Circuits.html),**\n",
    "\n",
    "![](images/img343.png)\n",
    "\n",
    "**a) Write down the ODE that describes the system using the sign conventions in [Fig. 1.10 on page 25](https://ccrma.stanford.edu/~jos/pasp/Equivalent_Circuits.html).**\n",
    "\n",
    "![](images/img349.png)"
   ]
  },
  {
   "cell_type": "markdown",
   "metadata": {},
   "source": [
    "$f_{ext}(t) - f_m(t) - f_k(t) = 0 \\implies f_{ext}(t) = f_m(t) + f_k(t)$\n",
    "\n",
    "Expressing this equation as an ODE:\n",
    "\n",
    "$f_{ext}(t) = m\\ddot{x}(t) + kx(t)$"
   ]
  },
  {
   "cell_type": "markdown",
   "metadata": {},
   "source": [
    "**b) Write down the ODE that results if the signs on the \"force source\" (voltage source) in Fig. 1.10 are reversed.**\n",
    "\n",
    "If the voltage source sign is switched, we have\n",
    "\n",
    "$-f_{ext}(t) - f_m(t) - f_k(t) = 0 \\implies f_{ext}(t) = -f_m(t) - f_k(t)$\n",
    "\n",
    "Expressing this equation as an ODE:\n",
    "\n",
    "$f_{ext}(t) = -m\\ddot{x}(t) - kx(t)$"
   ]
  },
  {
   "cell_type": "markdown",
   "metadata": {},
   "source": [
    "**In the following, assume the signs are as given in Fig. 1.10.**\n",
    "\n",
    "**c) Find the $s$-plane transfer function relating the driving-force input signal $f_{ext}(t)$ to the mass-velocity output signal $v_m(t)$.**\n",
    "\n",
    "$\\begin{array}{ll}\n",
    "f_{ext}(t) &= m\\ddot{x}(t) + kx(t)\\\\\n",
    "F_{ext}(s) &= \\mathcal{L}_s\\{m\\ddot{x} + kx\\} &\\text{ Laplace transform of both sides}\\\\\n",
    "&= m\\mathcal{L}_s\\{\\ddot{x}\\} + k\\mathcal{L}_s\\{x\\} &\\text{ by linearity}\\\\\n",
    "&= m\\left[s\\mathcal{L}_s\\{\\dot{x}\\} - \\dot{x}(0)\\right] + k\\mathcal{L}_s\\{x\\} &\\text{ by differentiation theorem}\\\\\n",
    "&= m\\left[s\\mathcal{L}_s\\{\\dot{x}\\} - \\dot{x}(0)\\right] + k\\dfrac{\\mathcal{L}_s\\{\\dot{x}\\} + x(0)}{s} &\\text{ by integration theorem}\\\\\n",
    "&= m\\left[sV_m(s) - v_m(0)\\right] + k\\dfrac{V_k(s) + x(0)}{s}\\\\\n",
    "&= msV_m(s) + k\\dfrac{V_k(s)}{s} &\\text{ assuming the initial velocity } v(0) = 0 \\text{ and the initial position } x(0) = 0\\\\\n",
    "&= V_m(s)ms + V_m(s)ks^{-1} &\\text{since }v_m(t) = v_k(t) \\triangleq v(t)\\\\\n",
    "&= V_m(s)\\left(ms + ks^{-1}\\right)\\\\\n",
    "\\dfrac{F_{ext}(s)}{V_m(s)} &= ms + ks^{-1} &\\text{ solving for inverse } s \\text{-plane transfer function}\\\\\n",
    "\\dfrac{V_m(s)}{F_{ext}(s)} &\\triangleq H(s) = \\dfrac{1}{ms + ks^{-1}} = \\dfrac{s^{-1}}{m + ks^{-2}} = \\dfrac{\\frac{1}{m}s^{-1}}{1 + \\frac{k}{m}s^{-2}}\n",
    "\\end{array}$"
   ]
  },
  {
   "cell_type": "markdown",
   "metadata": {},
   "source": [
    "**d) Find the poles of the system.**\n",
    "\n",
    "The poles will be where the denominator of the transfer function is equal to $0$. Solving for $s$,\n",
    "\n",
    "$\\begin{align}\n",
    "1 + \\frac{k}{m}s^{-2} &= 0\\\\\n",
    "s^{2} &= -\\frac{k}{m} \\\\\n",
    "s &= \\pm j\\sqrt{\\frac{k}{m}}\\\\\n",
    "\\end{align}$\n",
    "\n",
    "Note that this implies we can express $H(s)$ as a _series_ of _complex one-poles:_\n",
    "\n",
    "$H(s) = \\frac{\\frac{1}{m}s^{-1}}{\\left(1 + j\\sqrt{\\frac{k}{m}}s^{-1}\\right)\\left(1 - j\\sqrt{\\frac{k}{m}}s^{-1}\\right)}$"
   ]
  },
  {
   "cell_type": "markdown",
   "metadata": {},
   "source": [
    "**e) Where are the zeros?**\n",
    "\n",
    "Zeros will occur when the numerator, $\\frac{1}{m}s^{-1} = 0 \\implies s^{-1} = 0$.\n",
    "\n",
    "Thus, there are technically zeros only when $s \\to \\pm \\infty$."
   ]
  },
  {
   "cell_type": "markdown",
   "metadata": {},
   "source": [
    "**f) Write down the equations describing a linear, time-invariant state-space model, choosing the spring compression $x(t)$ as state-variable 1 and the mass velocity $v_m(t)$ as state-variable 2.**"
   ]
  },
  {
   "cell_type": "markdown",
   "metadata": {},
   "source": [
    "Let's start by expressing the ODE as a _forward difference_ approximation to the derivative. First, we can express acceleration as:\n",
    "\n",
    "$\\ddot{x}(t) = \\dot{v}(t) = \\lim_\\limits{\\delta \\to 0} \\dfrac{v(t+\\delta) - v(t)}{\\delta} \\approx \\dfrac{v\\left[(n+1)T\\right] - v(nT)}{T}$\n",
    "\n",
    "Now we can substitute into the ODE to make a finite approximation:\n",
    "\n",
    "$\\begin{array}{ll}\n",
    "f_{ext}(t) &= m\\ddot{x}(t) + kx(t)\\\\\n",
    "f_{ext}(nT) &= m\\dfrac{v\\left[(n+1)T\\right] - v(nT)}{T} + kx(nT)\\\\\n",
    "{f_{ext}}_{n} &= m\\dfrac{v_{n+1} - v_{n}}{T} + kx_{n} &\\text{ letting }x_n \\triangleq x(nT)\\\\\n",
    "v_{n+1} &= \\frac{T}{m}\\left({f_{ext}}_{n} - kx_n\\right) + v_n &\\text{ solving for }v_{n+1}\\\\\n",
    "&= \\frac{T}{m}{f_{ext}}_{n} - \\frac{Tk}{m}x_n + v_n\n",
    "\\end{array}$\n",
    "\n",
    "For position, we always have simply $x_{n+1} = x_n + Tv_n$. (Remember from the text that since the mass and spring displacements are physically the same, we can define $x_m = x_k \\triangleq x$, and their velocities are similarly equal, so $v_m = v_k \\triangleq v$. Thus I make no distinguishment between different $v$s and $x$s here.)\n",
    "\n",
    "Using these relations for $v_{n+1}$ and $x_{n+1}$, we can express the state-update part of the state space model as\n",
    "\n",
    "$\\begin{array}{}\n",
    "\\underline{x}(n+1) &= &A&\\underline{x}(n) &+ &B&\\underline{u}(n)\\\\\n",
    "\\begin{bmatrix}x_{n+1}\\\\v_{n+1}\\end{bmatrix} &= &\\begin{bmatrix}1 &T\\\\-\\frac{Tk}{m} &1\\end{bmatrix}&\\begin{bmatrix}x_n\\\\v_n\\end{bmatrix}&+&\\begin{bmatrix}0\\\\\\frac{T}{M}\\end{bmatrix}&{f_{ext}}_n\n",
    "\\end{array}$"
   ]
  },
  {
   "cell_type": "markdown",
   "metadata": {},
   "source": [
    "**g) Under what conditions does this system become identical to the force-driving mass system in [Fig. 1.6](https://ccrma.stanford.edu/~jos/filters/Moving_Mass.html)? Explain how this makes physical sense.**\n",
    "\n",
    "![](images/img217.png)"
   ]
  },
  {
   "cell_type": "markdown",
   "metadata": {},
   "source": [
    "This system becomes identical to the system in the figure above when $k = 0$ (which causes the term $-\\frac{Tk}{m}x_n$ to disappear, resulting in the no-spring force-driven mass scenario $v_{n+1} = \\frac{T}{m}{f}_n + v_n$ as derived in the book).\n",
    "\n",
    "This makes physical sense since a spring with stiffness constant $k=0$ corresponds to a restoring force provided by the spring of $f = kx = 0\\cdot x = 0$.  In other words, this corresponds to a spring that has no restorative force at all, which is equivalent to there being no spring in the system at all (which is, of course, equivalent to the figure above)."
   ]
  },
  {
   "cell_type": "markdown",
   "metadata": {},
   "source": [
    "**h) Digitize the ODE, converting it to an explicit difference equation that computes a sample of velocity $v_m(nT)$ as a function of previous velocity and driving-force samples.**"
   ]
  },
  {
   "cell_type": "markdown",
   "metadata": {},
   "source": [
    "In problem **(f)** above, we derived\n",
    "\n",
    "$\\begin{align}\n",
    "v_{n+1} &= \\frac{T}{m}{f_{ext}}_{n} - \\frac{Tk}{m}x_n + v_n\\\\\n",
    "\\implies v_{n} &= \\frac{T}{m}{f_{ext}}_{n-1} - \\frac{Tk}{m}x_{n-1} + v_{n-1}\\\\\n",
    "\\end{align}$\n",
    "\n",
    "The question asks for a function of previous _velocity_ and _driving-force_ samples. We're almost there - we just have to express the previous _position_ $x_{n-1}$ in terms of previous _velocity_ samples.\n",
    "\n",
    "In order to accurately express $x_{n-1}$ in terms of velocity, we would need to explicitly integrate $x_{n-1} = x_{n-2} + Tv_{n-2}$ for all time (where $v(n)$ is constantly changing). I'm not certain this is the desired approach for this question, but I will simply estimate this by performing _one integration_, and then setting $n=2$, such that $x_{n-2} = x_0 = 0$, our assumed initial position: _(Note that the applied force is assumed to change over time, which prevents any closed-form expression of $x(n)$.)_\n",
    "\n",
    "$\\begin{array}{ll}\n",
    "v_{n} &= \\dfrac{T}{m}f_{n-1} - \\dfrac{Tk}{m}x_{n-1} + v_{n-1} &{f_{ext}}_n \\to f_n\\\\\n",
    "&= \\dfrac{T}{m}f_{n-1} - d\\frac{Tk}{m}\\left[x_{n-2} + Tv_{n-2}\\right] + v_{n-1} &\\text{ substituting }x_{n-1} = x_{n-2} + Tv_{n-2}\\\\\n",
    "&\\approx \\dfrac{T}{m}f_{n-1} - \\dfrac{T^2k}{m}v_{n-2} + v_{n-1} &\\text{ substituting }x_{n-2} = 0\\\\\n",
    "\\end{array}$"
   ]
  },
  {
   "cell_type": "markdown",
   "metadata": {},
   "source": [
    "**i) Find the $z$-plane transfer function $H(z) = V(z)/F(z)$ of the difference equation.**\n",
    "\n",
    "We can find this $z$-plane transfer function by inspection, by thinking of the difference equation as being in the usual form $y(n) = b_1x(n) - a_1y(n - 1) - a_2y(n-2)$, and seeing that $b_1 = \\dfrac{T}{m}$, $a_1 = -1$, and $a_2 = \\dfrac{T^2k}{m}$. Thus,\n",
    "\n",
    "$H(z) = \\dfrac{b_1z^{-1}}{1 + a_1z^{-1} + a_2z^{-2}} = \\dfrac{\\dfrac{T}{m}z^{-1}}{1 -z^{-1} + \\dfrac{T^2k}{m}z^{-2}}.$"
   ]
  },
  {
   "cell_type": "markdown",
   "metadata": {},
   "source": [
    "**j) Find the poles of the digitized system.**\n",
    "\n",
    "The poles of this system will occur when the denominator of the transfer function is equal to $0$. If we set $T = 1$, this will happen when $z = \\dfrac{\\pm\\sqrt{m (m - 4 k)} + m}{2 m}$ (solved using Wolfram Alpha)."
   ]
  },
  {
   "cell_type": "markdown",
   "metadata": {},
   "source": [
    "**k) Find the zeros of the digitized system.**\n",
    "\n",
    "This transfer function _also_ has zeros only when $z = \\pm \\infty$."
   ]
  },
  {
   "cell_type": "markdown",
   "metadata": {},
   "source": [
    "**l) Discuss the quality of the digitization in terms of how accurately the resonance frequency and damping characteristics are carried over from continuous to discrete time.**"
   ]
  },
  {
   "cell_type": "markdown",
   "metadata": {},
   "source": [
    "Note that the _digitized_ transfer function derived above is the same as the _continuous_ one, except for an extra $z^{-1}$ term in the denominator. I am going to answer this question by finding the resonance frequency and damping _graphically_ (by observing the behavior of the amplitude and impulse response):\n",
    "\n",
    "(_I am setting $T = 1$._)"
   ]
  },
  {
   "cell_type": "code",
   "execution_count": 1,
   "metadata": {},
   "outputs": [
    {
     "data": {
      "image/png": "[encoded data removed]",
      "text/plain": [
       "<matplotlib.figure.Figure at 0x10d60e198>"
      ]
     },
     "metadata": {},
     "output_type": "display_data"
    }
   ],
   "source": [
    "import numpy as np\n",
    "import matplotlib.pyplot as plt\n",
    "%matplotlib inline\n",
    "\n",
    "from scipy.signal import freqz, lfilter\n",
    "\n",
    "impulse = [1.0] + [0] * (99)\n",
    "\n",
    "T = 1\n",
    "m = 0.5 # arbitrary mass\n",
    "k = 0.25 # arbitrary spring stiffness\n",
    "\n",
    "# Plot \"continuous\" case:\n",
    "B = [0, T/m]; A = [1, 0, T ** 2 * k / m]\n",
    "w, H = freqz(B, A)\n",
    "\n",
    "plt.figure(figsize=(8, 6))\n",
    "plt.subplot(211)\n",
    "plt.title('Laplace-transform-derived amplitude response')\n",
    "plt.plot(w, np.abs(H), c='red')\n",
    "\n",
    "plt.subplot(212)\n",
    "plt.title('Laplace-transform-derived impulse response')\n",
    "plt.plot(lfilter(B, A, impulse), c='k')\n",
    "plt.tight_layout()"
   ]
  },
  {
   "cell_type": "code",
   "execution_count": 7,
   "metadata": {},
   "outputs": [
    {
     "data": {
      "image/png": "[encoded data removed]",
      "text/plain": [
       "<matplotlib.figure.Figure at 0x10beb02b0>"
      ]
     },
     "metadata": {},
     "output_type": "display_data"
    }
   ],
   "source": [
    "# Plot \"digitized\" case:\n",
    "B = [0, T/m]; A = [1, -1, T ** 2 * k / m]\n",
    "w, H = freqz(B, A)\n",
    "\n",
    "plt.figure(figsize=(8, 6))\n",
    "plt.subplot(211)\n",
    "plt.title('$z$-transform-derived amplitude response')\n",
    "plt.plot(w, np.abs(H), c='red')\n",
    "\n",
    "plt.subplot(212)\n",
    "plt.title('$z$-transform-derived impulse response')\n",
    "plt.plot(lfilter(B, A, impulse), c='k')\n",
    "plt.tight_layout()"
   ]
  },
  {
   "cell_type": "markdown",
   "metadata": {},
   "source": [
    "Welp, I wouldn't read too much into this result. Again, the difference between my derivations is an extra $z^{-1}$ term in the numerator, which makes a huge difference. This came from my perhaps ill-motivated method of integrating for position over _one term_ and assuming $v_n,x_n = 0$ for all terms $n - 2$ and earlier. More accurate ways of integrating to solve for the $x_n$ term (such as expanding more and more terms in the explicit integration) should produce more accurate results."
   ]
  },
  {
   "cell_type": "markdown",
   "metadata": {},
   "source": [
    "## Lab"
   ]
  },
  {
   "cell_type": "markdown",
   "metadata": {},
   "source": [
    "Here is my code for the STK \"effect\" lab:\n",
    "```cpp\n",
    "#ifndef CPP_CHAPTER1LABEFFECT_H\n",
    "#define CPP_CHAPTER1LABEFFECT_H\n",
    "\n",
    "#include <Effect.h>\n",
    "#include <BiQuad.h>\n",
    "\n",
    "class Chapter1LabEffect : public stk::Effect {\n",
    "    stk::BiQuad biQuad;\n",
    "\n",
    "    double T = 0.1;\n",
    "    double mass = 1.0;\n",
    "    double k = 100 * stk::PI;\n",
    "\n",
    "public:\n",
    "    Chapter1LabEffect() {\n",
    "        // TODO not confident about these parameters/discrete derivation.\n",
    "        biQuad.setB0(0);\n",
    "        biQuad.setB1(T/mass);\n",
    "        biQuad.setA1(-1);\n",
    "        biQuad.setA2(T * T * k/mass);\n",
    "    }\n",
    "\n",
    "    // Takes force input, returns mass velocity\n",
    "    inline stk::StkFloat tick(stk::StkFloat force)  {\n",
    "        return biQuad.tick(force);\n",
    "    }\n",
    "\n",
    "    //! Reset and clear all internal state.\n",
    "    void clear() override {\n",
    "        biQuad.clear();\n",
    "    }\n",
    "\n",
    "    //! Set the mixture of input and \"effected\" levels in the output (0.0 = input only, 1.0 = effect only).\n",
    "    void setEffectMix( stk::StkFloat mix ) override {\n",
    "        // no-op.\n",
    "    }\n",
    "};\n",
    "\n",
    "#endif //CPP_CHAPTER1LABEFFECT_H\n",
    "\n",
    "```\n",
    "\n",
    "```cpp\n",
    "#include <iostream>\n",
    "#include \"Chapter1LabEffect.h\"\n",
    "\n",
    "int main() {\n",
    "    Chapter1LabEffect chapter1LabEffect;\n",
    "\n",
    "    const stk::StkFloat impulse[10] = {1.0, 0, 0, 0, 0, 0, 0, 0, 0, 0};\n",
    "    for (const stk::StkFloat sample : impulse) {\n",
    "        stk::StkFloat massVelocity = chapter1LabEffect.tick(sample);\n",
    "        std::cout << \"Mass velocity: \" << massVelocity << '\\n';\n",
    "    }\n",
    "    return 0;\n",
    "}\n",
    "```\n",
    "\n",
    "... and here is the output:\n",
    "\n",
    "```\n",
    "/Users/khiner/Development/notebooks/physical_audio_signal_processing/cpp/cmake-build-debug/cpp\n",
    "Mass velocity: 0\n",
    "Mass velocity: 0.1\n",
    "Mass velocity: 0.1\n",
    "Mass velocity: -0.214159\n",
    "Mass velocity: -0.528319\n",
    "Mass velocity: 0.144483\n",
    "Mass velocity: 1.80424\n",
    "Mass velocity: 1.35034\n",
    "Mass velocity: -4.31786\n",
    "Mass velocity: -8.56008\n",
    "\n",
    "Process finished with exit code 0\n",
    "```"
   ]
  },
  {
   "cell_type": "code",
   "execution_count": null,
   "metadata": {},
   "outputs": [],
   "source": []
  }
 ],
 "metadata": {
  "kernelspec": {
   "display_name": "Python 3",
   "language": "python",
   "name": "python3"
  },
  "language_info": {
   "codemirror_mode": {
    "name": "ipython",
    "version": 3
   },
   "file_extension": ".py",
   "mimetype": "text/x-python",
   "name": "python",
   "nbconvert_exporter": "python",
   "pygments_lexer": "ipython3",
   "version": "3.8.6"
  }
 },
 "nbformat": 4,
 "nbformat_minor": 2
}
